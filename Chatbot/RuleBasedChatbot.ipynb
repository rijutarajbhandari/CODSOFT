{
  "nbformat": 4,
  "nbformat_minor": 0,
  "metadata": {
    "colab": {
      "provenance": []
    },
    "kernelspec": {
      "name": "python3",
      "display_name": "Python 3"
    },
    "language_info": {
      "name": "python"
    }
  },
  "cells": [
    {
      "cell_type": "code",
      "execution_count": 1,
      "metadata": {
        "colab": {
          "base_uri": "https://localhost:8080/"
        },
        "id": "N8S6rTTszaQ6",
        "outputId": "d201a015-3265-4d12-8cc6-80b2f2165459"
      },
      "outputs": [
        {
          "output_type": "stream",
          "name": "stdout",
          "text": [
            "Requirement already satisfied: nltk in /usr/local/lib/python3.11/dist-packages (3.9.1)\n",
            "Requirement already satisfied: click in /usr/local/lib/python3.11/dist-packages (from nltk) (8.1.8)\n",
            "Requirement already satisfied: joblib in /usr/local/lib/python3.11/dist-packages (from nltk) (1.4.2)\n",
            "Requirement already satisfied: regex>=2021.8.3 in /usr/local/lib/python3.11/dist-packages (from nltk) (2024.11.6)\n",
            "Requirement already satisfied: tqdm in /usr/local/lib/python3.11/dist-packages (from nltk) (4.67.1)\n"
          ]
        }
      ],
      "source": [
        "!pip install nltk"
      ]
    },
    {
      "cell_type": "code",
      "source": [
        "!pip install fuzzywuzzy"
      ],
      "metadata": {
        "colab": {
          "base_uri": "https://localhost:8080/"
        },
        "id": "jmWql4asC0oq",
        "outputId": "55cf8fd3-8874-41c5-86e3-c0c67358a192"
      },
      "execution_count": 2,
      "outputs": [
        {
          "output_type": "stream",
          "name": "stdout",
          "text": [
            "Collecting fuzzywuzzy\n",
            "  Downloading fuzzywuzzy-0.18.0-py2.py3-none-any.whl.metadata (4.9 kB)\n",
            "Downloading fuzzywuzzy-0.18.0-py2.py3-none-any.whl (18 kB)\n",
            "Installing collected packages: fuzzywuzzy\n",
            "Successfully installed fuzzywuzzy-0.18.0\n"
          ]
        }
      ]
    },
    {
      "cell_type": "code",
      "source": [
        "import nltk\n",
        "from nltk.tokenize import word_tokenize\n",
        "import random\n",
        "import time\n",
        "from fuzzywuzzy import fuzz\n",
        "from textblob import TextBlob"
      ],
      "metadata": {
        "colab": {
          "base_uri": "https://localhost:8080/"
        },
        "id": "bfEp9xD5zhXB",
        "outputId": "56d45c76-1eac-469c-d51b-04d78790de23"
      },
      "execution_count": 3,
      "outputs": [
        {
          "output_type": "stream",
          "name": "stderr",
          "text": [
            "/usr/local/lib/python3.11/dist-packages/fuzzywuzzy/fuzz.py:11: UserWarning: Using slow pure-python SequenceMatcher. Install python-Levenshtein to remove this warning\n",
            "  warnings.warn('Using slow pure-python SequenceMatcher. Install python-Levenshtein to remove this warning')\n"
          ]
        }
      ]
    },
    {
      "cell_type": "code",
      "source": [
        "nltk.download('punkt_tab')\n",
        "nltk.download('punkt')"
      ],
      "metadata": {
        "colab": {
          "base_uri": "https://localhost:8080/"
        },
        "id": "fcQRG3fBzzYh",
        "outputId": "21a05f56-e6e5-4fcf-ba54-8741f4d23918"
      },
      "execution_count": 4,
      "outputs": [
        {
          "output_type": "stream",
          "name": "stderr",
          "text": [
            "[nltk_data] Downloading package punkt_tab to /root/nltk_data...\n",
            "[nltk_data]   Unzipping tokenizers/punkt_tab.zip.\n",
            "[nltk_data] Downloading package punkt to /root/nltk_data...\n",
            "[nltk_data]   Unzipping tokenizers/punkt.zip.\n"
          ]
        },
        {
          "output_type": "execute_result",
          "data": {
            "text/plain": [
              "True"
            ]
          },
          "metadata": {},
          "execution_count": 4
        }
      ]
    },
    {
      "cell_type": "code",
      "source": [
        "greetings={\n",
        "    \"morning\" : [\"Good Morning!How can I help you?\", \"How can I help you this morning?\",\"Rise and Shine! What can I do for you?\"],\n",
        "    \"afternoon\" : [\"Good Afternoon!How can I help you?\", \"How can I help you this afternoon?\",\"What can I do for you this afternoon?\"],\n",
        "    \"evening\" : [\"Good Evening!How can I help you?\", \"How can I help you this evening?\",\"What can I do for you this evening?\"],\n",
        "    \"general\" : [\"Hello, how can I help you today\", \"Hi! What can I do for you?\",\"Hi there, how can I help you today?\"]\n",
        "}\n",
        "farewell=[\"Goodbye! Have a great day!\", \"Bye!Take care!\", \"See you later!\"]\n",
        "\n",
        "jokes = [\"Why don't scientists trust atoms? Because they make up everything!\",\n",
        "         \"Why did the scarecrow win an award? Because he was outstanding in his field!\",\n",
        "         \"What did one ocean say to the other? Nothing, they just waved!\"]\n",
        "\n",
        "fun_facts = [\"Did you know that honey never spoils?\",\n",
        "             \"Octopuses have three hearts!\",\n",
        "             \"Bananas are berries, but strawberries aren’t!\"]\n"
      ],
      "metadata": {
        "id": "ilZCVgFt_YX5"
      },
      "execution_count": 5,
      "outputs": []
    },
    {
      "cell_type": "code",
      "source": [
        "responses={\n",
        "    \"how are you\": [\"I am just a bot but I am doing great\", \"I am good\", \"I am well..tahnks for asking\"],\n",
        "    \"your name\" : [\"I am just a chatbot\", \"I am chatbot\", \"You can call me chatty\"],\n",
        "    \"weather\" : [\"I am not a meteorologist but you can check the weather website\", \"I have no idea\", \"Ask google\"],\n",
        "    \"help\" : [\"How can I assist you today\", \"Sure, ask me anything!\", \"I am here to help you!\"],\n",
        "    \"joke\" : jokes,\n",
        "    \"fun facts\": fun_facts\n",
        "}"
      ],
      "metadata": {
        "id": "OY3JmTc8_yX-"
      },
      "execution_count": 6,
      "outputs": []
    },
    {
      "cell_type": "code",
      "source": [
        "def get_greetings():\n",
        "  hour=time.local_time().tm_hour\n",
        "  if hour<12:\n",
        "    return random.choice(greetings[\"morning\"])\n",
        "  elif 12<hour<=18:\n",
        "    return random.choice(greetings[\"afternoon\"])\n",
        "  else:\n",
        "    return random.choice(greetings[\"evening\"])"
      ],
      "metadata": {
        "id": "62jZWLV5ES4J"
      },
      "execution_count": 7,
      "outputs": []
    },
    {
      "cell_type": "code",
      "source": [
        "def fuzzy_match(user_input,threshold=80):\n",
        "  for key in responses.keys():\n",
        "    if fuzz.ratio(user_input.lower(),key) >= threshold:\n",
        "      return key\n",
        "  return None\n"
      ],
      "metadata": {
        "id": "mfnj-CmUFDbf"
      },
      "execution_count": 8,
      "outputs": []
    },
    {
      "cell_type": "code",
      "source": [
        "def sentiment_analysis(text):\n",
        "  analysis=TextBlob(text)\n",
        "  sentiment=analysis.sentiment.polarity\n",
        "  if sentiment>0:\n",
        "    return \"You seem happy😊\"\n",
        "  elif sentiment<0:\n",
        "    return \"Oh No! You sound a bit down! Don't worry, I am here to assist you!🤗\"\n",
        "  else:\n",
        "    return \"Got it! Let me know how I can assist.\""
      ],
      "metadata": {
        "id": "I3ocMbauF20h"
      },
      "execution_count": 9,
      "outputs": []
    },
    {
      "cell_type": "code",
      "source": [
        "def chatbot_response(user_input):\n",
        "  tokens=word_tokenize(user_input.lower())\n",
        "  if any (word in tokens for word in [\"hello\",\"hi\",\"hey\"]):\n",
        "    return get_greetings()\n",
        "  elif any(word in tokens for word in [\"bye\",\"goodbye\",\"tatabyebye\"]):\n",
        "    return random.choice(farewell)\n",
        "\n",
        "#Checking for pre-defined responses based on fuzzy-matching\n",
        "\n",
        "  matched_key= fuzzy_match(user_input)\n",
        "  if matched_key:\n",
        "    return random.choice(responses[matched_key])\n",
        "\n",
        "#Sentiment analysis response\n",
        "\n",
        "  sentiment_response=sentiment_analysis(user_input)\n",
        "  return f\"{sentiment_response} Also I am still learning, can you rephrase?\""
      ],
      "metadata": {
        "id": "Ttohji2Yz11V"
      },
      "execution_count": 10,
      "outputs": []
    },
    {
      "cell_type": "code",
      "source": [
        "#Running the chatbot\n",
        "print(\"Chatbot: Hello! Type 'exit' to end the chat\")\n",
        "user_text=input(\"You: \")\n",
        "if user_text.lower()==\"exit\":\n",
        "  print(\"Goodbye Chatbot!\")\n",
        "else:\n",
        "  print(\"Chatbot Response:\", chatbot_response(user_text))"
      ],
      "metadata": {
        "colab": {
          "base_uri": "https://localhost:8080/"
        },
        "id": "9Q86vMjg0rus",
        "outputId": "e49e2f1e-b4c7-4486-bf81-afc39c06ad96"
      },
      "execution_count": 11,
      "outputs": [
        {
          "output_type": "stream",
          "name": "stdout",
          "text": [
            "Chatbot: Hello! Type 'exit' to end the chat\n",
            "You: I am feeling happy today\n",
            "Chatbot Response: You seem happy😊 Also I am still learning, can you rephrase?\n"
          ]
        }
      ]
    },
    {
      "cell_type": "code",
      "source": [],
      "metadata": {
        "id": "WiRjdlKxCALq"
      },
      "execution_count": null,
      "outputs": []
    }
  ]
}